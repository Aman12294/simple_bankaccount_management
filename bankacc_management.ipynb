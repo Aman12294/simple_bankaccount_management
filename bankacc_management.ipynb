{
 "cells": [
  {
   "cell_type": "code",
   "execution_count": null,
   "id": "6edd15b9-3f72-4a66-918b-d3ef7e7b5884",
   "metadata": {},
   "outputs": [],
   "source": [
    "class BankAccount:\n",
    "    def __init__(self, account_holder, balance=0):\n",
    "        self.account_holder = account_holder\n",
    "        self.balance = balance\n",
    "        self.transactions = []\n",
    "\n",
    "    def deposit(self, amount):\n",
    "        if amount > 0:\n",
    "            self.balance += amount\n",
    "            self.transactions.append(f\"Deposited ₹{amount}\")\n",
    "            print(f\"₹{amount} deposited successfully.\")\n",
    "        else:\n",
    "            print(\"Deposit amount must be positive.\")\n",
    "\n",
    "    def withdraw(self, amount):\n",
    "        if 0 < amount <= self.balance:\n",
    "            self.balance -= amount\n",
    "            self.transactions.append(f\"Withdrew ₹{amount}\")\n",
    "            print(f\"₹{amount} withdrawn successfully.\")\n",
    "        else:\n",
    "            print(\"Insufficient balance or invalid amount.\")\n",
    "\n",
    "    def check_balance(self):\n",
    "        print(f\"Current balance: ₹{self.balance}\")\n",
    "\n",
    "    def view_transactions(self):\n",
    "        print(\"\\nTransaction History:\")\n",
    "        for txn in self.transactions:\n",
    "            print(txn)\n"
   ]
  },
  {
   "cell_type": "code",
   "execution_count": null,
   "id": "e473980c-cccd-48ff-aaa5-2416fa98611d",
   "metadata": {},
   "outputs": [
    {
     "name": "stdout",
     "output_type": "stream",
     "text": [
      "Welcome to the Simple Bank System!\n"
     ]
    },
    {
     "name": "stdout",
     "output_type": "stream",
     "text": [
      "Enter account holder's name:  dhabai\n"
     ]
    },
    {
     "name": "stdout",
     "output_type": "stream",
     "text": [
      "\n",
      "Choose an option:\n",
      "1. Deposit\n",
      "2. Withdraw\n",
      "3. Check Balance\n",
      "4. View Transactions\n",
      "5. Exit\n"
     ]
    },
    {
     "name": "stdout",
     "output_type": "stream",
     "text": [
      "Enter your choice (1-5):  1\n",
      "Enter deposit amount:  10000\n"
     ]
    },
    {
     "name": "stdout",
     "output_type": "stream",
     "text": [
      "₹10000.0 deposited successfully.\n",
      "\n",
      "Choose an option:\n",
      "1. Deposit\n",
      "2. Withdraw\n",
      "3. Check Balance\n",
      "4. View Transactions\n",
      "5. Exit\n"
     ]
    },
    {
     "name": "stdout",
     "output_type": "stream",
     "text": [
      "Enter your choice (1-5):  3\n"
     ]
    },
    {
     "name": "stdout",
     "output_type": "stream",
     "text": [
      "Current balance: ₹10000.0\n",
      "\n",
      "Choose an option:\n",
      "1. Deposit\n",
      "2. Withdraw\n",
      "3. Check Balance\n",
      "4. View Transactions\n",
      "5. Exit\n"
     ]
    },
    {
     "name": "stdout",
     "output_type": "stream",
     "text": [
      "Enter your choice (1-5):  4.\n"
     ]
    },
    {
     "name": "stdout",
     "output_type": "stream",
     "text": [
      "Invalid choice. Please try again.\n",
      "\n",
      "Choose an option:\n",
      "1. Deposit\n",
      "2. Withdraw\n",
      "3. Check Balance\n",
      "4. View Transactions\n",
      "5. Exit\n"
     ]
    },
    {
     "name": "stdout",
     "output_type": "stream",
     "text": [
      "Enter your choice (1-5):  5\n"
     ]
    },
    {
     "name": "stdout",
     "output_type": "stream",
     "text": [
      "Thank you for using the Simple Bank System!\n"
     ]
    }
   ],
   "source": [
    "def main():\n",
    "    print(\"Welcome to the Simple Bank System!\")\n",
    "\n",
    "    # Get user details\n",
    "    name = input(\"Enter account holder's name: \")\n",
    "    account = BankAccount(name)  # Now correctly initializes the account\n",
    "\n",
    "    while True:\n",
    "        print(\"\\nChoose an option:\")\n",
    "        print(\"1. Deposit\")\n",
    "        print(\"2. Withdraw\")\n",
    "        print(\"3. Check Balance\")\n",
    "        print(\"4. View Transactions\")\n",
    "        print(\"5. Exit\")\n",
    "\n",
    "        choice = input(\"Enter your choice (1-5): \")\n",
    "\n",
    "        if choice == \"1\":\n",
    "            amount = float(input(\"Enter deposit amount: \"))\n",
    "            account.deposit(amount)\n",
    "        elif choice == \"2\":\n",
    "            amount = float(input(\"Enter withdrawal amount: \"))  # Fixed typo\n",
    "            account.withdraw(amount)  # Fixed incorrect function name\n",
    "        elif choice == \"3\":\n",
    "            account.check_balance()\n",
    "        elif choice == \"4\":\n",
    "            account.view_transactions()\n",
    "        elif choice == \"5\":\n",
    "            print(\"Thank you for using the Simple Bank System!\")\n",
    "            break\n",
    "        else:\n",
    "            print(\"Invalid choice. Please try again.\")\n",
    "\n",
    "if __name__ == \"__main__\":\n",
    "    main()\n"
   ]
  },
  {
   "cell_type": "code",
   "execution_count": null,
   "id": "9160caa5-bcf9-449d-bc7e-9030ebfc5e5a",
   "metadata": {},
   "outputs": [],
   "source": []
  }
 ],
 "metadata": {
  "kernelspec": {
   "display_name": "Python 3 (ipykernel)",
   "language": "python",
   "name": "python3"
  },
  "language_info": {
   "codemirror_mode": {
    "name": "ipython",
    "version": 3
   },
   "file_extension": ".py",
   "mimetype": "text/x-python",
   "name": "python",
   "nbconvert_exporter": "python",
   "pygments_lexer": "ipython3",
   "version": "3.12.4"
  }
 },
 "nbformat": 4,
 "nbformat_minor": 5
}
